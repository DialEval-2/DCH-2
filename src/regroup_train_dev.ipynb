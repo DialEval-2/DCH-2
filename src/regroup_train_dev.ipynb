{
 "metadata": {
  "language_info": {
   "codemirror_mode": {
    "name": "ipython",
    "version": 3
   },
   "file_extension": ".py",
   "mimetype": "text/x-python",
   "name": "python",
   "nbconvert_exporter": "python",
   "pygments_lexer": "ipython3",
   "version": "3.7.3-final"
  },
  "orig_nbformat": 2,
  "kernelspec": {
   "name": "python373jvsc74a57bd0b3d2e67950ddeac0b179ca8261213f857d68259eae82bcde4ff5b6af2a3840dc",
   "display_name": "Python 3.7.3 64-bit ('anaconda3': virtualenv)"
  }
 },
 "nbformat": 4,
 "nbformat_minor": 2,
 "cells": [
  {
   "cell_type": "code",
   "execution_count": 1,
   "metadata": {},
   "outputs": [],
   "source": [
    "import json"
   ]
  },
  {
   "cell_type": "code",
   "execution_count": 6,
   "metadata": {},
   "outputs": [],
   "source": [
    "# read dialeval-1 data\n",
    "\n",
    "with open(\"../data/dialeval-1/train_cn.json\", \"r\") as f:\n",
    "    train_cn = json.load(f)\n",
    "\n",
    "with open(\"../data/dialeval-1/dev_cn.json\", \"r\") as f:\n",
    "    dev_cn = json.load(f)\n",
    "\n",
    "with open(\"../data/dialeval-1/test_cn.json\", \"r\") as f:\n",
    "    test_cn = json.load(f)\n",
    "\n",
    "with open(\"../data/dialeval-1/train_en.json\", \"r\") as f:\n",
    "    train_en = json.load(f)\n",
    "\n",
    "with open(\"../data/dialeval-1/dev_en.json\", \"r\") as f:\n",
    "    dev_en = json.load(f)\n",
    "\n",
    "with open(\"../data/dialeval-1/test_en.json\", \"r\") as f:\n",
    "    test_en = json.load(f)"
   ]
  },
  {
   "cell_type": "code",
   "execution_count": 8,
   "metadata": {},
   "outputs": [],
   "source": [
    "dch2_train_cn = train_cn + dev_cn\n",
    "dch2_dev_cn = test_cn\n",
    "\n",
    "dch2_train_en = train_en + dev_en\n",
    "dch2_dev_en = test_en"
   ]
  },
  {
   "cell_type": "code",
   "execution_count": 11,
   "metadata": {},
   "outputs": [],
   "source": [
    "with open('../data/dch-2/dch2_train_cn.json', 'w') as f:\n",
    "    json.dump(dch2_train_cn, f, indent=2, ensure_ascii=False)\n",
    "\n",
    "with open('../data/dch-2/dch2_dev_cn.json', 'w') as f:\n",
    "    json.dump(dch2_dev_cn, f, indent=2, ensure_ascii=False)\n",
    "\n",
    "with open('../data/dch-2/dch2_train_en.json', 'w') as f:\n",
    "    json.dump(dch2_train_en, f, indent=2, ensure_ascii=False)\n",
    "\n",
    "with open('../data/dch-2/dch2_dev_en.json', 'w') as f:\n",
    "    json.dump(dch2_dev_en, f, indent=2, ensure_ascii=False)"
   ]
  },
  {
   "cell_type": "code",
   "execution_count": null,
   "metadata": {},
   "outputs": [],
   "source": []
  }
 ]
}