{
 "metadata": {
  "language_info": {
   "codemirror_mode": {
    "name": "ipython",
    "version": 3
   },
   "file_extension": ".py",
   "mimetype": "text/x-python",
   "name": "python",
   "nbconvert_exporter": "python",
   "pygments_lexer": "ipython3",
   "version": "3.7.3-final"
  },
  "orig_nbformat": 2,
  "kernelspec": {
   "name": "python373jvsc74a57bd0b3d2e67950ddeac0b179ca8261213f857d68259eae82bcde4ff5b6af2a3840dc",
   "display_name": "Python 3.7.3 64-bit ('anaconda3': virtualenv)"
  }
 },
 "nbformat": 4,
 "nbformat_minor": 2,
 "cells": [
  {
   "cell_type": "code",
   "execution_count": 27,
   "metadata": {},
   "outputs": [],
   "source": [
    "import json\n",
    "import os\n",
    "from tqdm import tqdm_notebook as tqdm"
   ]
  },
  {
   "cell_type": "code",
   "execution_count": 6,
   "metadata": {},
   "outputs": [],
   "source": [
    "# read dialeval-1 data\n",
    "\n",
    "with open(\"../data/dialeval-1/train_cn.json\", \"r\") as f:\n",
    "    train_data = json.load(f)\n",
    "\n",
    "with open(\"../data/dialeval-1/dev_cn.json\", \"r\") as f:\n",
    "    dev_data = json.load(f)\n",
    "\n",
    "with open(\"../data/dialeval-1/test_cn.json\", \"r\") as f:\n",
    "    test_data = json.load(f)"
   ]
  },
  {
   "cell_type": "code",
   "execution_count": 11,
   "metadata": {},
   "outputs": [],
   "source": [
    "# get all ids of used dials\n",
    "dch_2 = train_data + dev_data + test_data\n",
    "used_ids = [dial['id'] for dial in dch_2]"
   ]
  },
  {
   "cell_type": "code",
   "execution_count": 19,
   "metadata": {},
   "outputs": [],
   "source": [
    "# get all ids of crawled weibo dials\n",
    "weibo1 = os.listdir(\"../data/weibo/dialogsOutput/\")\n",
    "weibo2 = os.listdir(\"../data/weibo/dialogsOutput2/\")\n",
    "weibo3 = os.listdir(\"../data/weibo/dialogsOutput3/\")\n",
    "weibo4 = os.listdir(\"../data/weibo/dialogsOutput4/\")\n",
    "weibo5 = os.listdir(\"../data/weibo/dialogsOutput5/\")\n",
    "\n",
    "weibo_all_files = weibo1 + weibo2 + weibo3 + weibo4 + weibo5\n",
    "weibo_all_ids = [file_name[:-5] for file_name in weibo_all_files]"
   ]
  },
  {
   "cell_type": "code",
   "execution_count": 20,
   "metadata": {},
   "outputs": [],
   "source": [
    "unused_ids = list(set(weibo_all_ids) - set(used_ids))"
   ]
  },
  {
   "cell_type": "code",
   "execution_count": 21,
   "metadata": {},
   "outputs": [
    {
     "output_type": "execute_result",
     "data": {
      "text/plain": [
       "29809"
      ]
     },
     "metadata": {},
     "execution_count": 21
    }
   ],
   "source": [
    "len(unused_ids)"
   ]
  },
  {
   "cell_type": "code",
   "execution_count": 24,
   "metadata": {},
   "outputs": [],
   "source": [
    "weibo_path1 = [\"../data/weibo/dialogsOutput/\"+filename for filename in weibo1]\n",
    "weibo_path2 = [\"../data/weibo/dialogsOutput2/\"+filename for filename in weibo2]\n",
    "weibo_path3 = [\"../data/weibo/dialogsOutput3/\"+filename for filename in weibo3]\n",
    "weibo_path4 = [\"../data/weibo/dialogsOutput4/\"+filename for filename in weibo4]\n",
    "weibo_path5 = [\"../data/weibo/dialogsOutput5/\"+filename for filename in weibo5]\n",
    "weibo_paths = weibo_path1 + weibo_path2 + weibo_path3 + weibo_path4 + weibo_path5"
   ]
  },
  {
   "cell_type": "code",
   "execution_count": 26,
   "metadata": {},
   "outputs": [
    {
     "output_type": "execute_result",
     "data": {
      "text/plain": [
       "'3956304655086013'"
      ]
     },
     "metadata": {},
     "execution_count": 26
    }
   ],
   "source": [
    "weibo_paths[0].split(\"/\")[-1][:-5]"
   ]
  },
  {
   "cell_type": "code",
   "execution_count": 28,
   "metadata": {},
   "outputs": [
    {
     "output_type": "execute_result",
     "data": {
      "text/plain": [
       "35161"
      ]
     },
     "metadata": {},
     "execution_count": 28
    }
   ],
   "source": [
    "len(weibo_paths)"
   ]
  },
  {
   "cell_type": "code",
   "execution_count": 33,
   "metadata": {},
   "outputs": [
    {
     "output_type": "stream",
     "name": "stderr",
     "text": [
      "ipykernel_launcher:8: TqdmDeprecationWarning: This function will be removed in tqdm==5.0.0\nPlease use `tqdm.notebook.tqdm` instead of `tqdm.tqdm_notebook`\n"
     ]
    },
    {
     "output_type": "display_data",
     "data": {
      "text/plain": "HBox(children=(FloatProgress(value=0.0, max=35161.0), HTML(value='')))",
      "application/vnd.jupyter.widget-view+json": {
       "version_major": 2,
       "version_minor": 0,
       "model_id": "7b179d61f8cb4f1395e7f4c831dbddd5"
      }
     },
     "metadata": {}
    },
    {
     "output_type": "stream",
     "name": "stdout",
     "text": [
      "decode err:  ../data/weibo/dialogsOutput4/.DS_Store\n",
      "\n"
     ]
    }
   ],
   "source": [
    "sampled_2turn_paths = []\n",
    "sampled_3turn_paths = []\n",
    "sampled_4turn_paths = []\n",
    "sampled_5turn_paths = []\n",
    "sampled_6turn_paths = []\n",
    "sampled_7turn_paths = []\n",
    "\n",
    "for file_path in tqdm(weibo_paths):\n",
    "    dial_id = file_path.split('/')[-1][:-5]\n",
    "    if dial_id in unused_ids:\n",
    "        with open(file_path, \"r\") as f:\n",
    "            try:\n",
    "                lines = f.readlines()\n",
    "                if len(lines) == 4:\n",
    "                    sampled_2turn_paths += [file_path]\n",
    "                elif len(lines) == 6:\n",
    "                    sampled_3turn_paths += [file_path]\n",
    "                elif len(lines) == 8:\n",
    "                    sampled_4turn_paths += [file_path]\n",
    "                elif len(lines) == 10:\n",
    "                    sampled_5turn_paths += [file_path]\n",
    "                elif len(lines) == 12:\n",
    "                    sampled_6turn_paths += [file_path]\n",
    "                elif len(lines) == 14:\n",
    "                    sampled_7turn_paths += [file_path]\n",
    "                else:\n",
    "                    continue\n",
    "            except UnicodeDecodeError:\n",
    "                print(\"decode err: \", file_path)\n",
    "    else:\n",
    "        continue\n"
   ]
  },
  {
   "cell_type": "code",
   "execution_count": 43,
   "metadata": {},
   "outputs": [
    {
     "output_type": "stream",
     "name": "stdout",
     "text": [
      "../data/weibo/dialogsOutput/3954840960801414.html\n../data/weibo/dialogsOutput/3924751363600035.html\n../data/weibo/dialogsOutput2/3781676716658558.html\n../data/weibo/dialogsOutput2/3942082730961343.html\n../data/weibo/dialogsOutput2/3719232644367093.html\n../data/weibo/dialogsOutput2/3784683353436018.html\n../data/weibo/dialogsOutput2/3954840960801414.html\n../data/weibo/dialogsOutput2/3723505725910702.html\n../data/weibo/dialogsOutput2/3847795288722058.html\n../data/weibo/dialogsOutput2/3818551867356175.html\n../data/weibo/dialogsOutput2/3546305739224882.html\n../data/weibo/dialogsOutput2/3831783210480665.html\n../data/weibo/dialogsOutput2/3836896750609028.html\n../data/weibo/dialogsOutput2/3924751363600035.html\n../data/weibo/dialogsOutput3/3907218526988760.html\n../data/weibo/dialogsOutput3/3879895220507041.html\n../data/weibo/dialogsOutput3/3842165949938982.html\n../data/weibo/dialogsOutput3/3564124652960435.html\n../data/weibo/dialogsOutput3/3793464417988898.html\n../data/weibo/dialogsOutput3/3824768417241128.html\n../data/weibo/dialogsOutput3/3732656325411015.html\n../data/weibo/dialogsOutput3/3592020750666122.html\n../data/weibo/dialogsOutput4/4232106143703427.html\n../data/weibo/dialogsOutput5/4286769605954137.html\n../data/weibo/dialogsOutput5/4262017118218599.html\n"
     ]
    }
   ],
   "source": [
    "for filepath in sampled_7turn_paths:\n",
    "    with open(filepath, \"r\") as f:\n",
    "        lines = f.readlines()\n",
    "        senders = [line.split(\"\\t\")[2] for line in lines]\n",
    "        sender1 = senders[0]\n",
    "        sender2 = senders[1]\n",
    "        flag = 1\n",
    "        if sender1 != sender2:\n",
    "            for idx in range(2, 14, 2):\n",
    "                if senders[idx] != sender1:\n",
    "                    flag = 0\n",
    "                    break\n",
    "            for idx in range(1, 14, 2):\n",
    "                if senders[idx] != sender2:\n",
    "                    flag = 0\n",
    "                    break\n",
    "        elif sender1 == sender2:\n",
    "            flag = 0\n",
    "        if flag == 1:\n",
    "            print(filepath)"
   ]
  },
  {
   "cell_type": "code",
   "execution_count": 42,
   "metadata": {},
   "outputs": [
    {
     "output_type": "execute_result",
     "data": {
      "text/plain": [
       "range(2, 13, 2)"
      ]
     },
     "metadata": {},
     "execution_count": 42
    }
   ],
   "source": [
    "range(2, 14, 2)"
   ]
  },
  {
   "cell_type": "code",
   "execution_count": 41,
   "metadata": {},
   "outputs": [
    {
     "output_type": "stream",
     "name": "stdout",
     "text": [
      "['翟朱俐小姐', '慕思微客服', '昨晚尿不湿失效了，宝贝画了一张大地图，@涵爸爸2012 ，都是我的错，希望你身体快快好，我们的慕思床被尿尿浸湿了，改怎么处理啊@慕思微客服 @慕思寝具', '2013-1-29 09:17\\n']\n--------------------\n['慕思微客服', '翟朱俐小姐', '感谢您的来信，请拨打我们的客服热线：400-777-0077进行咨询可以吗？', '2013-1-29 09:25 \\n']\n--------------------\n['翟朱俐小姐', '慕思微客服', '晕，不能这里教一下么，这个情况应该很多客户都会存在哦', '2013-1-29 13:31 \\n']\n--------------------\n['慕思微客服', '翟朱俐小姐', '非常抱歉，因为不同的床垫不同的处理方法，所以还是建议您拨打我们的客服热线进行咨询处理。', '2013-1-29 13:50 \\n']\n--------------------\n##############################\n['Usd199', '中国电信吉林客服', '用中国电信的4M的宽带在晚上很晚的时候上网下资料，看资料视频，卡的让人无法使用，为什么这么慢？打10000 号，要么说非常抱歉要么说系统升级。不是升级的日子也经常慢，而且还常掉线。@中国电信吉林客服', '2014-8-13 05:54\\n']\n--------------------\n['Usd199', '中国电信吉林客服', '外省市的IP,@中国电信吉林客服', '2014-8-13 06:48 \\n']\n--------------------\n['中国电信吉林客服', 'Usd199', '您好，您能将您家的宽带帐号和您的联系电话，以私信的形容发给小编吗？我为您进一步处理。', '2014-8-15 08:51 \\n']\n--------------------\n['Usd199', '中国电信吉林客服', '已经告诉你们营业厅客服人员了.请不要在微薄上含私信上所要用户个人电话号码!!!!!!!!!', '2014-8-15 17:57 \\n']\n--------------------\n##############################\n['13_寡人寡语', '中国联通辽宁沈阳客服', '@中国移动沈阳公司 @中国联通辽宁沈阳客服 两位可否出来给@宋丹微语 解释一下屏蔽基站信号这种问题是否需要全球顶尖人才，或者说沈阳工业大学的楼梯建筑真的具有只能遮挡移动联通信号而挡不住电信信号这种说法。', '3月17日21:52\\n']\n--------------------\n['中国联通辽宁沈阳客服', '13_寡人寡语', '您好！很抱歉给您带来的不便，由于信号会受到诸多因素的影响，例如天气、地理位置等其他不可预测因素的干扰造成。同时我司对网络建设和完善都非常重视，可能还会存在部分信号弱区，但是我们会不断的加强完善不足之处，请您谅解！', '3月17日 20:59 \\n']\n--------------------\n['13_寡人寡语', '中国联通辽宁沈阳客服', '谢谢官微的回复。 居然完美回避了我的问题。 不过还是希望贵公司能够加强与我校的洽谈，加强我校的网络建设。 以上回答不代表沈阳工业大学，仅是一名热心的学生出于对联通用户的体验考虑。', '3月17日 21:14 \\n']\n--------------------\n['中国联通辽宁沈阳客服', '13_寡人寡语', '您好，很抱歉给您带来不好的感受，不足之处，我司也会不断完善及改进，努力提升服务质量的，您再关注。', '3月17日 21:30 \\n']\n--------------------\n##############################\n['吉林的老李', '中国联通吉林客服', '中国联通，这是不是圈套呢？我什么业务都不想办，怎么还要回复啊？你们到底是怎么回事啊？@中国联通网上营业厅 @中国联通吉林客服 @中国联通客服 @吉林飞哥头条 @吉林三风蛋', '3月29日 15:52\\n']\n--------------------\n['中国联通吉林客服', '吉林的老李', '您好！这里是@ 中国联通吉林客服 微博，首先为我们可能给您带去的不便表示歉意，如方便，请私信将您的困扰及联系电话提供给我，以便我们核查清楚后与您联系，麻烦您了，谢谢！', '3月29日 15:57 \\n']\n--------------------\n['中国联通吉林客服', '吉林的老李', '您好！很抱歉给您带来不愉快的使用感知，您反馈的情况我司领导非常重视，如方便，请私信将手机号码及联系方式告诉我，我们为您核查，谢谢您！', '3月29日 16:12 \\n']\n--------------------\n['中国联通吉林客服', '吉林的老李', '您好，给您的使用带来不便，深感抱歉，小沃已为您转交工作人员处理，届时将会有工作人员与您联系，请静候，谢谢！', '3月29日 16:22 \\n']\n--------------------\n##############################\n['out2015ing', '中国联通山东客服', '流量月底不清零？@中国联通 @中国联通山东客服 倒是不清零了，1月份不清12月份的，但我11，10月份的流量都见鬼啦！@中国移动 @中国移动广东公司 闲时流量每个月清零怎么回事？', '1月10日 18:36\\n']\n--------------------\n['中国联通山东客服', 'out2015ing', '您好，感谢您的支持，流量单月不清零业务目前无法实现所有流量均结转哦。', '1月10日 19:29 \\n']\n--------------------\n['out2015ing', '中国联通山东客服', '那流量为什么是单月不清零？', '1月11日 19:04 \\n']\n--------------------\n['中国联通山东客服', 'out2015ing', '目前是单月不清零哦，后期您可关注最新动态哦。', '1月11日 19:45 \\n']\n--------------------\n##############################\n"
     ]
    }
   ],
   "source": [
    "for filepath in sampled_2turn_paths[:5]:\n",
    "    with open(filepath, \"r\") as f:\n",
    "        lines = f.readlines()\n",
    "        for line in lines:\n",
    "            print(line.split(\"\\t\")[2:])\n",
    "            print(\"-\"*20)\n",
    "        print(\"#\"*30)"
   ]
  },
  {
   "cell_type": "code",
   "execution_count": 23,
   "metadata": {},
   "outputs": [
    {
     "output_type": "execute_result",
     "data": {
      "text/plain": [
       "2"
      ]
     },
     "metadata": {},
     "execution_count": 23
    }
   ],
   "source": [
    "len(l)"
   ]
  },
  {
   "cell_type": "code",
   "execution_count": 18,
   "metadata": {},
   "outputs": [
    {
     "output_type": "execute_result",
     "data": {
      "text/plain": [
       "'3956304655086013'"
      ]
     },
     "metadata": {},
     "execution_count": 18
    }
   ],
   "source": [
    "files[0][:-5]"
   ]
  },
  {
   "cell_type": "code",
   "execution_count": 7,
   "metadata": {},
   "outputs": [
    {
     "output_type": "execute_result",
     "data": {
      "text/plain": [
       "{'annotations': [{'quality': {'A': 0, 'S': -2, 'E': -2},\n",
       "   'nugget': ['CNUG', 'HNaN']},\n",
       "  {'quality': {'A': 0, 'S': -2, 'E': 1}, 'nugget': ['CNUG0', 'HNUG']},\n",
       "  {'quality': {'A': 0, 'S': -2, 'E': 1}, 'nugget': ['CNUG0', 'HNaN']},\n",
       "  {'quality': {'A': 0, 'S': 0, 'E': 0}, 'nugget': ['CNaN', 'HNaN']},\n",
       "  {'quality': {'A': 0, 'S': 0, 'E': 0}, 'nugget': ['CNUG0', 'HNUG']},\n",
       "  {'quality': {'A': 0, 'S': 0, 'E': 0}, 'nugget': ['CNUG0', 'HNUG']},\n",
       "  {'quality': {'A': 0, 'S': 0, 'E': 0}, 'nugget': ['CNaN', 'HNaN']},\n",
       "  {'quality': {'A': -2, 'S': -2, 'E': -2}, 'nugget': ['CNUG0', 'HNaN']},\n",
       "  {'quality': {'A': -1, 'S': 0, 'E': 0}, 'nugget': ['CNUG0', 'HNUG']},\n",
       "  {'quality': {'A': 0, 'S': 0, 'E': 0}, 'nugget': ['CNaN', 'HNaN']},\n",
       "  {'quality': {'A': -2, 'S': 0, 'E': -2}, 'nugget': ['CNUG0', 'HNaN']},\n",
       "  {'quality': {'A': 0, 'S': 0, 'E': 0}, 'nugget': ['CNUG0', 'HNUG']},\n",
       "  {'quality': {'A': 0, 'S': 0, 'E': 0}, 'nugget': ['CNUG0', 'HNUG']},\n",
       "  {'quality': {'A': -1, 'S': 0, 'E': 0}, 'nugget': ['CNUG0', 'HNaN']},\n",
       "  {'quality': {'A': -1, 'S': -2, 'E': -2}, 'nugget': ['CNUG0', 'HNUG']},\n",
       "  {'quality': {'A': 0, 'S': 0, 'E': 0}, 'nugget': ['CNaN', 'HNaN']},\n",
       "  {'quality': {'A': 1, 'S': 0, 'E': 0}, 'nugget': ['CNUG0', 'HNUG']},\n",
       "  {'quality': {'A': 0, 'S': 0, 'E': -1}, 'nugget': ['CNUG0', 'HNUG']},\n",
       "  {'quality': {'A': -1, 'S': 0, 'E': 1}, 'nugget': ['CNUG0', 'HNaN']}],\n",
       " 'id': '3830401296796826',\n",
       " 'turns': [{'sender': 'customer',\n",
       "   'utterances': ['中国电信的控制箱就这样吗？也没有人维护,信息安全和人身安全怎么保障？还是好好修修吧？这个应该不差钱吧？位于济南市新泺大街雅居园小区门对面.@中国电信 @中国电信客服 @中国电信济南客服']},\n",
       "  {'sender': 'helpdesk',\n",
       "   'utterances': ['您好,您反映的情况我们已认真记录,会及时向相关部门反馈,敬请等待[呵呵]；']}]}"
      ]
     },
     "metadata": {},
     "execution_count": 7
    }
   ],
   "source": [
    "train_data[0]"
   ]
  },
  {
   "cell_type": "code",
   "execution_count": null,
   "metadata": {},
   "outputs": [],
   "source": []
  }
 ]
}