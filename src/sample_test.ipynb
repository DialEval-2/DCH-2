{
 "metadata": {
  "language_info": {
   "codemirror_mode": {
    "name": "ipython",
    "version": 3
   },
   "file_extension": ".py",
   "mimetype": "text/x-python",
   "name": "python",
   "nbconvert_exporter": "python",
   "pygments_lexer": "ipython3",
   "version": "3.7.3"
  },
  "orig_nbformat": 2,
  "kernelspec": {
   "name": "python373jvsc74a57bd0b3d2e67950ddeac0b179ca8261213f857d68259eae82bcde4ff5b6af2a3840dc",
   "display_name": "Python 3.7.3 64-bit ('anaconda3': virtualenv)"
  }
 },
 "nbformat": 4,
 "nbformat_minor": 2,
 "cells": [
  {
   "cell_type": "code",
   "execution_count": 1,
   "metadata": {},
   "outputs": [],
   "source": [
    "import json\n",
    "import os\n",
    "from tqdm import tqdm_notebook as tqdm"
   ]
  },
  {
   "cell_type": "code",
   "execution_count": 2,
   "metadata": {},
   "outputs": [],
   "source": [
    "# read dialeval-1 data\n",
    "\n",
    "with open(\"../data/dialeval-1/train_cn.json\", \"r\") as f:\n",
    "    train_data = json.load(f)\n",
    "\n",
    "with open(\"../data/dialeval-1/dev_cn.json\", \"r\") as f:\n",
    "    dev_data = json.load(f)\n",
    "\n",
    "with open(\"../data/dialeval-1/test_cn.json\", \"r\") as f:\n",
    "    test_data = json.load(f)"
   ]
  },
  {
   "cell_type": "code",
   "execution_count": 3,
   "metadata": {},
   "outputs": [],
   "source": [
    "# get all ids of used dials\n",
    "dch_2 = train_data + dev_data + test_data\n",
    "used_ids = [dial['id'] for dial in dch_2]"
   ]
  },
  {
   "cell_type": "code",
   "execution_count": 4,
   "metadata": {},
   "outputs": [
    {
     "output_type": "execute_result",
     "data": {
      "text/plain": [
       "4390"
      ]
     },
     "metadata": {},
     "execution_count": 4
    }
   ],
   "source": [
    "len(used_ids)"
   ]
  },
  {
   "cell_type": "code",
   "execution_count": 5,
   "metadata": {},
   "outputs": [],
   "source": [
    "# get all ids of crawled weibo dials\n",
    "weibo1 = os.listdir(\"../data/weibo/dialogsOutput/\")\n",
    "weibo2 = os.listdir(\"../data/weibo/dialogsOutput2/\")\n",
    "weibo3 = os.listdir(\"../data/weibo/dialogsOutput3/\")\n",
    "weibo4 = os.listdir(\"../data/weibo/dialogsOutput4/\")\n",
    "weibo5 = os.listdir(\"../data/weibo/dialogsOutput5/\")\n",
    "\n",
    "weibo_all_files = weibo1 + weibo2 + weibo3 + weibo4 + weibo5\n",
    "weibo_all_ids = [file_name[:-5] for file_name in weibo_all_files]"
   ]
  },
  {
   "cell_type": "code",
   "execution_count": 6,
   "metadata": {},
   "outputs": [],
   "source": [
    "# unused weibo ids\n",
    "\n",
    "unused_ids = list(set(weibo_all_ids) - set(used_ids))"
   ]
  },
  {
   "cell_type": "code",
   "execution_count": 7,
   "metadata": {},
   "outputs": [
    {
     "output_type": "execute_result",
     "data": {
      "text/plain": [
       "29809"
      ]
     },
     "metadata": {},
     "execution_count": 7
    }
   ],
   "source": [
    "len(unused_ids)"
   ]
  },
  {
   "cell_type": "code",
   "execution_count": 8,
   "metadata": {},
   "outputs": [],
   "source": [
    "# get all weibo file paths\n",
    "\n",
    "weibo_path1 = [\"../data/weibo/dialogsOutput/\"+filename for filename in weibo1]\n",
    "weibo_path2 = [\"../data/weibo/dialogsOutput2/\"+filename for filename in weibo2]\n",
    "weibo_path3 = [\"../data/weibo/dialogsOutput3/\"+filename for filename in weibo3]\n",
    "weibo_path4 = [\"../data/weibo/dialogsOutput4/\"+filename for filename in weibo4]\n",
    "weibo_path5 = [\"../data/weibo/dialogsOutput5/\"+filename for filename in weibo5]\n",
    "weibo_paths = weibo_path1 + weibo_path2 + weibo_path3 + weibo_path4 + weibo_path5"
   ]
  },
  {
   "cell_type": "code",
   "execution_count": 9,
   "metadata": {},
   "outputs": [
    {
     "output_type": "execute_result",
     "data": {
      "text/plain": [
       "'3956304655086013'"
      ]
     },
     "metadata": {},
     "execution_count": 9
    }
   ],
   "source": [
    "weibo_paths[0].split(\"/\")[-1][:-5]"
   ]
  },
  {
   "cell_type": "code",
   "execution_count": 10,
   "metadata": {},
   "outputs": [
    {
     "output_type": "execute_result",
     "data": {
      "text/plain": [
       "35161"
      ]
     },
     "metadata": {},
     "execution_count": 10
    }
   ],
   "source": [
    "len(weibo_paths)"
   ]
  },
  {
   "cell_type": "code",
   "execution_count": 11,
   "metadata": {},
   "outputs": [
    {
     "output_type": "stream",
     "name": "stderr",
     "text": [
      "ipykernel_launcher:10: TqdmDeprecationWarning: This function will be removed in tqdm==5.0.0\nPlease use `tqdm.notebook.tqdm` instead of `tqdm.tqdm_notebook`\n"
     ]
    },
    {
     "output_type": "display_data",
     "data": {
      "text/plain": "HBox(children=(FloatProgress(value=0.0, max=35161.0), HTML(value='')))",
      "application/vnd.jupyter.widget-view+json": {
       "version_major": 2,
       "version_minor": 0,
       "model_id": "3f6aca018a1e4bd8a0fd40c3b969b928"
      }
     },
     "metadata": {}
    },
    {
     "output_type": "stream",
     "name": "stdout",
     "text": [
      "decode err:  ../data/weibo/dialogsOutput4/.DS_Store\n",
      "\n"
     ]
    }
   ],
   "source": [
    "# find all unused weibo files according to turns\n",
    "\n",
    "unused_2turn_paths = []\n",
    "unused_3turn_paths = []\n",
    "unused_4turn_paths = []\n",
    "unused_5turn_paths = []\n",
    "unused_6turn_paths = []\n",
    "unused_7turn_paths = []\n",
    "\n",
    "for file_path in tqdm(weibo_paths):\n",
    "    dial_id = file_path.split('/')[-1][:-5]\n",
    "    if dial_id in unused_ids:\n",
    "        with open(file_path, \"r\") as f:\n",
    "            try:\n",
    "                lines = f.readlines()\n",
    "                if len(lines) == 2:\n",
    "                    unused_2turn_paths += [file_path]\n",
    "                elif len(lines) == 3:\n",
    "                    unused_3turn_paths += [file_path]\n",
    "                elif len(lines) == 4:\n",
    "                    unused_4turn_paths += [file_path]\n",
    "                elif len(lines) == 5:\n",
    "                    unused_5turn_paths += [file_path]\n",
    "                elif len(lines) == 6:\n",
    "                    unused_6turn_paths += [file_path]\n",
    "                elif len(lines) == 7:\n",
    "                    unused_7turn_paths += [file_path]\n",
    "                else:\n",
    "                    continue\n",
    "            except UnicodeDecodeError:\n",
    "                print(\"decode err: \", file_path)\n",
    "    else:\n",
    "        continue\n"
   ]
  },
  {
   "cell_type": "code",
   "execution_count": 12,
   "metadata": {},
   "outputs": [
    {
     "output_type": "execute_result",
     "data": {
      "text/plain": [
       "17733"
      ]
     },
     "metadata": {},
     "execution_count": 12
    }
   ],
   "source": [
    "len(unused_2turn_paths)"
   ]
  },
  {
   "cell_type": "code",
   "execution_count": 13,
   "metadata": {},
   "outputs": [],
   "source": [
    "# sample 11 dials for each turn\n",
    "import random"
   ]
  },
  {
   "cell_type": "code",
   "execution_count": 14,
   "metadata": {},
   "outputs": [],
   "source": [
    "sampled_2 = random.sample(unused_2turn_paths, 11)\n",
    "sampled_3 = random.sample(unused_3turn_paths, 11)\n",
    "sampled_4 = random.sample(unused_4turn_paths, 11)\n",
    "sampled_5 = random.sample(unused_5turn_paths, 11)\n",
    "sampled_6 = random.sample(unused_6turn_paths, 11)\n",
    "sampled_7 = random.sample(unused_7turn_paths, 11)"
   ]
  },
  {
   "cell_type": "code",
   "execution_count": 15,
   "metadata": {},
   "outputs": [
    {
     "output_type": "execute_result",
     "data": {
      "text/plain": [
       "['../data/weibo/dialogsOutput5/4279802938433777.html',\n",
       " '../data/weibo/dialogsOutput/3801584951735365.html',\n",
       " '../data/weibo/dialogsOutput3/3770785568656616.html',\n",
       " '../data/weibo/dialogsOutput3/3703175892641065.html',\n",
       " '../data/weibo/dialogsOutput2/3849675415661446.html',\n",
       " '../data/weibo/dialogsOutput3/3877965194549188.html',\n",
       " '../data/weibo/dialogsOutput5/4328104593692015.html',\n",
       " '../data/weibo/dialogsOutput5/4330805822009078.html',\n",
       " '../data/weibo/dialogsOutput4/4138820088363089.html',\n",
       " '../data/weibo/dialogsOutput2/3455848392884824.html',\n",
       " '../data/weibo/dialogsOutput3/3814942736293483.html']"
      ]
     },
     "metadata": {},
     "execution_count": 15
    }
   ],
   "source": [
    "sampled_2"
   ]
  },
  {
   "cell_type": "code",
   "execution_count": 16,
   "metadata": {},
   "outputs": [],
   "source": [
    "# output to file\n",
    "sampled_path = sampled_2 + sampled_3 + sampled_4 + sampled_5 + sampled_6 + sampled_7\n",
    "with open(\"dch-2_test_path.txt\", \"w\") as f:\n",
    "    for pth in sampled_path:\n",
    "        f.write(pth)\n",
    "        f.write(\"\\n\")"
   ]
  },
  {
   "cell_type": "code",
   "execution_count": 2,
   "metadata": {},
   "outputs": [],
   "source": [
    "import shutil"
   ]
  },
  {
   "cell_type": "code",
   "execution_count": 6,
   "metadata": {},
   "outputs": [],
   "source": [
    "with open(\"dch-2_test_path.txt\", \"r\") as f:\n",
    "    test_paths = [line.strip() for line in f.readlines()]\n",
    "    for pth in test_paths:\n",
    "        filename = pth[-21:]\n",
    "        shutil.copy(pth, \"../data/dch-2/test_dial/\"+filename)"
   ]
  },
  {
   "cell_type": "code",
   "execution_count": 14,
   "metadata": {},
   "outputs": [],
   "source": [
    "# convert html files to txt files\n",
    "\n",
    "for pth in test_paths:\n",
    "    filename = pth[-21:]\n",
    "    with open(pth, \"r\") as f:\n",
    "        text = [line for line in f.readlines()]\n",
    "    with open(\"../data/dch-2/test_dial/\"+str(len(text))+\"-\"+filename[:-5]+\".txt\", \"w\") as f:\n",
    "        for line in text:\n",
    "            f.write(line)"
   ]
  },
  {
   "cell_type": "code",
   "execution_count": 12,
   "metadata": {},
   "outputs": [
    {
     "output_type": "execute_result",
     "data": {
      "text/plain": [
       "'3641591275581423.'"
      ]
     },
     "metadata": {},
     "execution_count": 12
    }
   ],
   "source": []
  },
  {
   "cell_type": "code",
   "execution_count": null,
   "metadata": {},
   "outputs": [],
   "source": []
  }
 ]
}