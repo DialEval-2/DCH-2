{
 "metadata": {
  "language_info": {
   "codemirror_mode": {
    "name": "ipython",
    "version": 3
   },
   "file_extension": ".py",
   "mimetype": "text/x-python",
   "name": "python",
   "nbconvert_exporter": "python",
   "pygments_lexer": "ipython3",
   "version": "3.7.3-final"
  },
  "orig_nbformat": 2,
  "kernelspec": {
   "name": "python373jvsc74a57bd0b3d2e67950ddeac0b179ca8261213f857d68259eae82bcde4ff5b6af2a3840dc",
   "display_name": "Python 3.7.3 64-bit ('anaconda3': virtualenv)"
  }
 },
 "nbformat": 4,
 "nbformat_minor": 2,
 "cells": [
  {
   "cell_type": "code",
   "execution_count": 27,
   "metadata": {},
   "outputs": [],
   "source": [
    "import json\n",
    "import os\n",
    "from tqdm import tqdm_notebook as tqdm"
   ]
  },
  {
   "cell_type": "code",
   "execution_count": 6,
   "metadata": {},
   "outputs": [],
   "source": [
    "# read dialeval-1 data\n",
    "\n",
    "with open(\"../data/dialeval-1/train_cn.json\", \"r\") as f:\n",
    "    train_data = json.load(f)\n",
    "\n",
    "with open(\"../data/dialeval-1/dev_cn.json\", \"r\") as f:\n",
    "    dev_data = json.load(f)\n",
    "\n",
    "with open(\"../data/dialeval-1/test_cn.json\", \"r\") as f:\n",
    "    test_data = json.load(f)"
   ]
  },
  {
   "cell_type": "code",
   "execution_count": 11,
   "metadata": {},
   "outputs": [],
   "source": [
    "# get all ids of used dials\n",
    "dch_2 = train_data + dev_data + test_data\n",
    "used_ids = [dial['id'] for dial in dch_2]"
   ]
  },
  {
   "cell_type": "code",
   "execution_count": 19,
   "metadata": {},
   "outputs": [],
   "source": [
    "# get all ids of crawled weibo dials\n",
    "weibo1 = os.listdir(\"../data/weibo/dialogsOutput/\")\n",
    "weibo2 = os.listdir(\"../data/weibo/dialogsOutput2/\")\n",
    "weibo3 = os.listdir(\"../data/weibo/dialogsOutput3/\")\n",
    "weibo4 = os.listdir(\"../data/weibo/dialogsOutput4/\")\n",
    "weibo5 = os.listdir(\"../data/weibo/dialogsOutput5/\")\n",
    "\n",
    "weibo_all_files = weibo1 + weibo2 + weibo3 + weibo4 + weibo5\n",
    "weibo_all_ids = [file_name[:-5] for file_name in weibo_all_files]"
   ]
  },
  {
   "cell_type": "code",
   "execution_count": 20,
   "metadata": {},
   "outputs": [],
   "source": [
    "unused_ids = list(set(weibo_all_ids) - set(used_ids))"
   ]
  },
  {
   "cell_type": "code",
   "execution_count": 21,
   "metadata": {},
   "outputs": [
    {
     "output_type": "execute_result",
     "data": {
      "text/plain": [
       "29809"
      ]
     },
     "metadata": {},
     "execution_count": 21
    }
   ],
   "source": [
    "len(unused_ids)"
   ]
  },
  {
   "cell_type": "code",
   "execution_count": 24,
   "metadata": {},
   "outputs": [],
   "source": [
    "weibo_path1 = [\"../data/weibo/dialogsOutput/\"+filename for filename in weibo1]\n",
    "weibo_path2 = [\"../data/weibo/dialogsOutput2/\"+filename for filename in weibo2]\n",
    "weibo_path3 = [\"../data/weibo/dialogsOutput3/\"+filename for filename in weibo3]\n",
    "weibo_path4 = [\"../data/weibo/dialogsOutput4/\"+filename for filename in weibo4]\n",
    "weibo_path5 = [\"../data/weibo/dialogsOutput5/\"+filename for filename in weibo5]\n",
    "weibo_paths = weibo_path1 + weibo_path2 + weibo_path3 + weibo_path4 + weibo_path5"
   ]
  },
  {
   "cell_type": "code",
   "execution_count": 26,
   "metadata": {},
   "outputs": [
    {
     "output_type": "execute_result",
     "data": {
      "text/plain": [
       "'3956304655086013'"
      ]
     },
     "metadata": {},
     "execution_count": 26
    }
   ],
   "source": [
    "weibo_paths[0].split(\"/\")[-1][:-5]"
   ]
  },
  {
   "cell_type": "code",
   "execution_count": 28,
   "metadata": {},
   "outputs": [
    {
     "output_type": "execute_result",
     "data": {
      "text/plain": [
       "35161"
      ]
     },
     "metadata": {},
     "execution_count": 28
    }
   ],
   "source": [
    "len(weibo_paths)"
   ]
  },
  {
   "cell_type": "code",
   "execution_count": 33,
   "metadata": {},
   "outputs": [
    {
     "output_type": "stream",
     "name": "stderr",
     "text": [
      "ipykernel_launcher:8: TqdmDeprecationWarning: This function will be removed in tqdm==5.0.0\nPlease use `tqdm.notebook.tqdm` instead of `tqdm.tqdm_notebook`\n"
     ]
    },
    {
     "output_type": "display_data",
     "data": {
      "text/plain": "HBox(children=(FloatProgress(value=0.0, max=35161.0), HTML(value='')))",
      "application/vnd.jupyter.widget-view+json": {
       "version_major": 2,
       "version_minor": 0,
       "model_id": "7b179d61f8cb4f1395e7f4c831dbddd5"
      }
     },
     "metadata": {}
    },
    {
     "output_type": "stream",
     "name": "stdout",
     "text": [
      "decode err:  ../data/weibo/dialogsOutput4/.DS_Store\n",
      "\n"
     ]
    }
   ],
   "source": [
    "sampled_2turn_paths = []\n",
    "sampled_3turn_paths = []\n",
    "sampled_4turn_paths = []\n",
    "sampled_5turn_paths = []\n",
    "sampled_6turn_paths = []\n",
    "sampled_7turn_paths = []\n",
    "\n",
    "for file_path in tqdm(weibo_paths):\n",
    "    dial_id = file_path.split('/')[-1][:-5]\n",
    "    if dial_id in unused_ids:\n",
    "        with open(file_path, \"r\") as f:\n",
    "            try:\n",
    "                lines = f.readlines()\n",
    "                if len(lines) == 4:\n",
    "                    sampled_2turn_paths += [file_path]\n",
    "                elif len(lines) == 6:\n",
    "                    sampled_3turn_paths += [file_path]\n",
    "                elif len(lines) == 8:\n",
    "                    sampled_4turn_paths += [file_path]\n",
    "                elif len(lines) == 10:\n",
    "                    sampled_5turn_paths += [file_path]\n",
    "                elif len(lines) == 12:\n",
    "                    sampled_6turn_paths += [file_path]\n",
    "                elif len(lines) == 14:\n",
    "                    sampled_7turn_paths += [file_path]\n",
    "                else:\n",
    "                    continue\n",
    "            except UnicodeDecodeError:\n",
    "                print(\"decode err: \", file_path)\n",
    "    else:\n",
    "        continue\n"
   ]
  },
  {
   "cell_type": "code",
   "execution_count": 43,
   "metadata": {},
   "outputs": [
    {
     "output_type": "stream",
     "name": "stdout",
     "text": [
      "../data/weibo/dialogsOutput/3954840960801414.html\n../data/weibo/dialogsOutput/3924751363600035.html\n../data/weibo/dialogsOutput2/3781676716658558.html\n../data/weibo/dialogsOutput2/3942082730961343.html\n../data/weibo/dialogsOutput2/3719232644367093.html\n../data/weibo/dialogsOutput2/3784683353436018.html\n../data/weibo/dialogsOutput2/3954840960801414.html\n../data/weibo/dialogsOutput2/3723505725910702.html\n../data/weibo/dialogsOutput2/3847795288722058.html\n../data/weibo/dialogsOutput2/3818551867356175.html\n../data/weibo/dialogsOutput2/3546305739224882.html\n../data/weibo/dialogsOutput2/3831783210480665.html\n../data/weibo/dialogsOutput2/3836896750609028.html\n../data/weibo/dialogsOutput2/3924751363600035.html\n../data/weibo/dialogsOutput3/3907218526988760.html\n../data/weibo/dialogsOutput3/3879895220507041.html\n../data/weibo/dialogsOutput3/3842165949938982.html\n../data/weibo/dialogsOutput3/3564124652960435.html\n../data/weibo/dialogsOutput3/3793464417988898.html\n../data/weibo/dialogsOutput3/3824768417241128.html\n../data/weibo/dialogsOutput3/3732656325411015.html\n../data/weibo/dialogsOutput3/3592020750666122.html\n../data/weibo/dialogsOutput4/4232106143703427.html\n../data/weibo/dialogsOutput5/4286769605954137.html\n../data/weibo/dialogsOutput5/4262017118218599.html\n"
     ]
    }
   ],
   "source": [
    "for filepath in sampled_7turn_paths:\n",
    "    with open(filepath, \"r\") as f:\n",
    "        lines = f.readlines()\n",
    "        senders = [line.split(\"\\t\")[2] for line in lines]\n",
    "        sender1 = senders[0]\n",
    "        sender2 = senders[1]\n",
    "        flag = 1\n",
    "        if sender1 != sender2:\n",
    "            for idx in range(2, 14, 2):\n",
    "                if senders[idx] != sender1:\n",
    "                    flag = 0\n",
    "                    break\n",
    "            for idx in range(1, 14, 2):\n",
    "                if senders[idx] != sender2:\n",
    "                    flag = 0\n",
    "                    break\n",
    "        elif sender1 == sender2:\n",
    "            flag = 0\n",
    "        if flag == 1:\n",
    "            print(filepath)"
   ]
  },
  {
   "cell_type": "code",
   "execution_count": null,
   "metadata": {},
   "outputs": [],
   "source": []
  }
 ]
}